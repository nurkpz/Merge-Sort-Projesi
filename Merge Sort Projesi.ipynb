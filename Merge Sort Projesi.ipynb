{
 "cells": [
  {
   "cell_type": "markdown",
   "id": "959a230a",
   "metadata": {},
   "source": [
    "Proje 2\n",
    "[16,21,11,8,12,22] -> Merge Sort\n",
    "\n",
    "Yukarıdaki dizinin sort türüne göre aşamalarını yazınız.\n",
    "\n",
    "    Cevap :\n",
    "            16-21-22        8-12-22\n",
    "            \n",
    "           16   21-11      8    12-22\n",
    "           \n",
    "           16  21   11     8   12    22\n",
    "           \n",
    "           16   11-21      8    12-22\n",
    "           \n",
    "             11-16-21        8-12-22\n",
    "             \n",
    "                 8-11-12-16-21-22\n",
    "             \n",
    "\n",
    "\n",
    "\n",
    "Big-O gösterimini yazınız.\n",
    "    \n",
    "    Cevap :\n",
    "        \n",
    "        Big-O : O(nlogn)\n",
    "        \n",
    "        n elemanlı bir dizide her aşamada n-1 işlem yapılır.\n",
    "        2^x = n\n",
    "        x = logn\n",
    "        O(nlogn)\n",
    "        "
   ]
  },
  {
   "cell_type": "code",
   "execution_count": null,
   "id": "cbefbb32",
   "metadata": {},
   "outputs": [],
   "source": []
  }
 ],
 "metadata": {
  "kernelspec": {
   "display_name": "Python 3 (ipykernel)",
   "language": "python",
   "name": "python3"
  },
  "language_info": {
   "codemirror_mode": {
    "name": "ipython",
    "version": 3
   },
   "file_extension": ".py",
   "mimetype": "text/x-python",
   "name": "python",
   "nbconvert_exporter": "python",
   "pygments_lexer": "ipython3",
   "version": "3.9.12"
  }
 },
 "nbformat": 4,
 "nbformat_minor": 5
}
